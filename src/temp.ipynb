{
 "cells": [
  {
   "cell_type": "code",
   "execution_count": 1,
   "metadata": {},
   "outputs": [],
   "source": [
    "from sqlite3 import connect"
   ]
  },
  {
   "cell_type": "code",
   "execution_count": null,
   "metadata": {},
   "outputs": [],
   "source": [
    "def create():\n",
    "    db = connect(\"my_projects.db\")\n",
    "    cur = db.cursor()\n",
    "\n",
    "    cur.execute(\"\"\"\n",
    "    CREATE TABLE projects (\n",
    "    name TEXT NOT NULL UNIQUE,\n",
    "    desc TEXT NOT NULL,\n",
    "    repo TEXT NOT NULL UNIQUE,\n",
    "    display INTEGER NOT NULL,\n",
    "    PRIMARY KEY (name)\n",
    "    )\n",
    "    \"\"\")\n",
    "    db.commit()\n",
    "    db.close()"
   ]
  },
  {
   "cell_type": "code",
   "execution_count": 3,
   "metadata": {},
   "outputs": [],
   "source": [
    "from sqlite3 import connect\n",
    "\n",
    "# Define a list of temporary values (each tuple represents a row)\n",
    "projects = [\n",
    "    (\"Project1\", \"This is the first project description.\", \"https://github.com/user/project1\", 1),\n",
    "    (\"Project2\", \"This is the second project description.\", \"https://github.com/user/project2\", 1),\n",
    "    (\"Project3\", \"This is the third project description.\", \"https://github.com/user/project3\", 1),\n",
    "    (\"Project4\", \"This is the fourth project description.\", \"https://github.com/user/project4\", 1)\n",
    "]\n",
    "\n",
    "con = connect(\"my_projects.db\")\n",
    "cur = con.cursor()\n",
    "\n",
    "# Insert the list of projects into the projects table\n",
    "cur.executemany(\"\"\"\n",
    "INSERT INTO projects (name, desc, repo, display) \n",
    "VALUES (?, ?, ?, ?, ?)\n",
    "\"\"\", projects)\n",
    "\n",
    "con.commit()\n",
    "con.close()\n",
    "\n"
   ]
  },
  {
   "cell_type": "code",
   "execution_count": null,
   "metadata": {},
   "outputs": [],
   "source": []
  },
  {
   "cell_type": "code",
   "execution_count": null,
   "metadata": {},
   "outputs": [],
   "source": []
  }
 ],
 "metadata": {
  "language_info": {
   "name": "python"
  }
 },
 "nbformat": 4,
 "nbformat_minor": 2
}
