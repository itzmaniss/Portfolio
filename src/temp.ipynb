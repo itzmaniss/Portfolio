{
 "cells": [
  {
   "cell_type": "code",
   "execution_count": 1,
   "metadata": {},
   "outputs": [],
   "source": [
    "from sqlite3 import connect"
   ]
  },
  {
   "cell_type": "code",
   "execution_count": null,
   "metadata": {},
   "outputs": [],
   "source": [
    "def create():\n",
    "    db = connect(\"my_projects.db\")\n",
    "    cur = db.cursor()\n",
    "\n",
    "    cur.execute(\"\"\"\n",
    "    CREATE TABLE projects (\n",
    "    name TEXT NOT NULL UNIQUE,\n",
    "    desc TEXT NOT NULL,\n",
    "    repo TEXT NOT NULL UNIQUE,\n",
    "    display INTEGER NOT NULL,\n",
    "    PRIMARY KEY (name)\n",
    "    )\n",
    "    \"\"\")\n",
    "    db.commit()\n",
    "    db.close()"
   ]
  },
  {
   "cell_type": "code",
   "execution_count": 3,
   "metadata": {},
   "outputs": [],
   "source": [
    "from sqlite3 import connect\n",
    "\n",
    "# Define a list of temporary values (each tuple represents a row)\n",
    "projects = [\n",
    "    (\"Project1\", \"This is the first project description.\", \"https://github.com/user/project1\", 1),\n",
    "    (\"Project2\", \"This is the second project description.\", \"https://github.com/user/project2\", 1),\n",
    "    (\"Project3\", \"This is the third project description.\", \"https://github.com/user/project3\", 1),\n",
    "    (\"Project4\", \"This is the fourth project description.\", \"https://github.com/user/project4\", 1)\n",
    "]\n",
    "\n",
    "con = connect(\"my_projects.db\")\n",
    "cur = con.cursor()\n",
    "\n",
    "# Insert the list of projects into the projects table\n",
    "cur.executemany(\"\"\"\n",
    "INSERT INTO projects (name, desc, repo, display) \n",
    "VALUES (?, ?, ?, ?, ?)\n",
    "\"\"\", projects)\n",
    "\n",
    "con.commit()\n",
    "con.close()\n",
    "\n"
   ]
  },
  {
   "cell_type": "code",
   "execution_count": 3,
   "metadata": {},
   "outputs": [],
   "source": [
    "db = connect(\"D:\\Bmani\\Coding\\webport\\public\\my_projects.db\")\n",
    "\n",
    "c = db.cursor()\n",
    "\n",
    "c.execute(\"\"\"CREATE TABLE experiences (\n",
    "      exp TEXT NOT NULL UNIQUE,\n",
    "      start_date TEXT NOT NULL,\n",
    "      end_date TEXT NOT NULL,\n",
    "      display INTEGER NOT NULL,\n",
    "      PRIMARY KEY (exp)\n",
    "      )\n",
    "\"\"\")\n",
    "\n",
    "\n",
    "db.commit()\n",
    "db.close()"
   ]
  },
  {
   "cell_type": "code",
   "execution_count": 6,
   "metadata": {},
   "outputs": [],
   "source": [
    "db = connect(\"D:\\Bmani\\Coding\\webport\\public\\my_projects.db\")\n",
    "\n",
    "c = db.cursor()\n",
    "\n",
    "c.execute(\"\"\"CREATE TABLE experience_info (\n",
    "        exp TEXT NOT NULL,\n",
    "        deets TEXT NOT NULL,\n",
    "        PRIMARY KEY (deets)\n",
    "        )\n",
    "\"\"\")\n",
    "\n",
    "\n",
    "db.commit()\n",
    "db.close()"
   ]
  },
  {
   "cell_type": "code",
   "execution_count": 14,
   "metadata": {},
   "outputs": [
    {
     "name": "stdout",
     "output_type": "stream",
     "text": [
      "[('H2 Computing Tutor', 'Mentored and tutored junior college students in core computer science principles, programming fundamentals (Python, SQL), and algorithms.'), ('H2 Computing Tutor', 'Explained complex technical concepts in a clear and engaging manner, adapting teaching methods to individual learning styles.'), ('H2 Computing Tutor', 'Fostered a supportive learning environment where students felt comfortable asking questions and seeking help.'), ('H2 Computing Tutor', 'Designed and implemented practice exercises and assignments to reinforce understanding and problem-solving skills.')]\n"
     ]
    }
   ],
   "source": [
    "db = connect(\"D:\\Bmani\\Coding\\webport\\public\\my_projects.db\")\n",
    "c = db.cursor()\n",
    "x = \"Designed and implemented practice exercises and assignments to reinforce understanding and problem-solving skills.\"\n",
    "y = c.execute(\"SELECT experiences.exp, deets FROM experiences, experience_info WHERE experience_info.exp = experiences.exp AND experiences.display = 1\").fetchall()\n",
    "print(y)\n",
    "db.commit()\n",
    "db.close()"
   ]
  }
 ],
 "metadata": {
  "kernelspec": {
   "display_name": "Python 3",
   "language": "python",
   "name": "python3"
  },
  "language_info": {
   "codemirror_mode": {
    "name": "ipython",
    "version": 3
   },
   "file_extension": ".py",
   "mimetype": "text/x-python",
   "name": "python",
   "nbconvert_exporter": "python",
   "pygments_lexer": "ipython3",
   "version": "3.11.5"
  }
 },
 "nbformat": 4,
 "nbformat_minor": 2
}
